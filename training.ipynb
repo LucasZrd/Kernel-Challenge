{
 "cells": [
  {
   "cell_type": "code",
   "execution_count": 1,
   "metadata": {},
   "outputs": [],
   "source": [
    "from data_parser import get_data\n",
    "import networkx as nx\n",
    "import matplotlib.pyplot as plt\n",
    "import numpy as np\n",
    "from sklearn.model_selection import train_test_split\n",
    "from kernel_methods import KernelSVC\n",
    "from kernels import DirectProductGraphKernel, DiracKernel, AllNodePairsKernel, AllEdgePairsKernel, WL_relabelling, WL_relabelling_with_edges\n",
    "from sklearn.metrics import roc_auc_score\n",
    "from sklearn.svm import SVC\n",
    "from tqdm import tqdm\n",
    "from kernels import WLKernel\n",
    "\n",
    "training_data, training_labels, test_data = get_data()\n"
   ]
  },
  {
   "cell_type": "code",
   "execution_count": 243,
   "metadata": {},
   "outputs": [],
   "source": [
    "X_train, X_test, y_train, y_test = train_test_split(training_data, training_labels, test_size=0.33)\n",
    "X_train = training_data\n",
    "y_train = training_labels\n",
    "y_train = np.array(y_train)\n",
    "y_train = (2*(y_train-.5))\n",
    "\n",
    "y_test = np.array(y_test)\n",
    "y_test = (2*(y_test-.5))"
   ]
  },
  {
   "cell_type": "code",
   "execution_count": 244,
   "metadata": {},
   "outputs": [
    {
     "name": "stderr",
     "output_type": "stream",
     "text": [
      "100%|██████████| 6000/6000 [8:21:11<00:00,  5.01s/it]   \n"
     ]
    }
   ],
   "source": [
    "n = len(X_train)\n",
    "kernel = WLKernel(h = 4, relabelling_method= WL_relabelling_with_edges, lmbda= 1.1).kernel\n",
    "kernel_X = np.ones((n,n)) \n",
    "for i in tqdm(range(n)):\n",
    "    for j in range(i+1,n):\n",
    "        similarity = kernel(X_train[i],X_train[j])             \n",
    "        kernel_X[i,j] = similarity\n",
    "        kernel_X[j,i] = similarity"
   ]
  },
  {
   "cell_type": "code",
   "execution_count": 245,
   "metadata": {},
   "outputs": [],
   "source": [
    "np.save(\"kernel_train_all\", kernel_X)"
   ]
  },
  {
   "cell_type": "code",
   "execution_count": 40,
   "metadata": {},
   "outputs": [
    {
     "name": "stderr",
     "output_type": "stream",
     "text": [
      "100%|██████████| 100/100 [09:47<00:00,  5.87s/it]\n"
     ]
    }
   ],
   "source": [
    "### val\n",
    "\n",
    "n_test = 100\n",
    "kernel = WLKernel(h = 4, relabelling_method= WL_relabelling_with_edges, lmbda = 1.1).kernel\n",
    "kernel_X_test = np.ones((n_test,n))\n",
    "for i in tqdm(range(n_test)):\n",
    "    for j in range(n):\n",
    "        similarity = kernel(X_test[i],X_train[j])             \n",
    "        kernel_X_test[i,j] = similarity"
   ]
  },
  {
   "cell_type": "code",
   "execution_count": 344,
   "metadata": {},
   "outputs": [],
   "source": [
    "kernel_X = np.load(\"kernel_train_all.npy\")\n",
    "kernel_X_test = np.load(\"kernel_test_all.npy\")"
   ]
  },
  {
   "cell_type": "code",
   "execution_count": 345,
   "metadata": {},
   "outputs": [
    {
     "name": "stderr",
     "output_type": "stream",
     "text": [
      "100%|██████████| 6000/6000 [00:20<00:00, 288.65it/s]\n"
     ]
    }
   ],
   "source": [
    "n = len(X_train)\n",
    "kernel = WLKernel(h = 4, relabelling_method= WL_relabelling_with_edges, lmbda= 1.1).kernel\n",
    "for i in tqdm(range(n)):\n",
    "    similarity = kernel(X_train[i],X_train[i])             \n",
    "    kernel_X[i,i] = similarity"
   ]
  },
  {
   "cell_type": "code",
   "execution_count": 353,
   "metadata": {},
   "outputs": [],
   "source": [
    "gamma = 1/9"
   ]
  },
  {
   "cell_type": "code",
   "execution_count": 358,
   "metadata": {},
   "outputs": [
    {
     "name": "stderr",
     "output_type": "stream",
     "text": [
      "100%|██████████| 6000/6000 [00:40<00:00, 149.15it/s]\n"
     ]
    }
   ],
   "source": [
    "new_kernel_X = np.ones((n,n))\n",
    "\n",
    "for i in tqdm(range(n)):\n",
    "    for j in range(i+1, n):\n",
    "        new_kernel_X[i,j] = (kernel_X[i,i] + kernel_X[j,j] - 2*kernel_X[i,j])\n",
    "        new_kernel_X[j,i] = new_kernel_X[i,j] "
   ]
  },
  {
   "cell_type": "code",
   "execution_count": 359,
   "metadata": {},
   "outputs": [],
   "source": [
    "np.save(\"distances_paul\", new_kernel_X)"
   ]
  },
  {
   "cell_type": "code",
   "execution_count": 360,
   "metadata": {},
   "outputs": [
    {
     "name": "stderr",
     "output_type": "stream",
     "text": [
      "100%|██████████| 2000/2000 [00:13<00:00, 150.21it/s]\n",
      "100%|██████████| 2000/2000 [00:28<00:00, 69.07it/s] \n"
     ]
    }
   ],
   "source": [
    "n_test = len(test_data)\n",
    "\n",
    "diag_test = np.zeros(n_test)\n",
    "\n",
    "for i in tqdm(range(n_test)):\n",
    "    similarity = kernel(test_data[i],test_data[i])             \n",
    "    diag_test[i] = similarity\n",
    "\n",
    "new_kernel_test = np.ones((n_test,n))\n",
    "\n",
    "for i in tqdm(range(n_test)):\n",
    "    for j in range(n):\n",
    "        new_kernel_test[i,j] = (kernel_X[j,j] + diag_test[i] - 2*kernel_X_test[i,j])\n"
   ]
  },
  {
   "cell_type": "code",
   "execution_count": 361,
   "metadata": {},
   "outputs": [],
   "source": [
    "np.save(\"distance_test_paul\", new_kernel_test)"
   ]
  },
  {
   "cell_type": "code",
   "execution_count": 356,
   "metadata": {},
   "outputs": [
    {
     "data": {
      "text/html": [
       "<style>#sk-container-id-33 {color: black;background-color: white;}#sk-container-id-33 pre{padding: 0;}#sk-container-id-33 div.sk-toggleable {background-color: white;}#sk-container-id-33 label.sk-toggleable__label {cursor: pointer;display: block;width: 100%;margin-bottom: 0;padding: 0.3em;box-sizing: border-box;text-align: center;}#sk-container-id-33 label.sk-toggleable__label-arrow:before {content: \"▸\";float: left;margin-right: 0.25em;color: #696969;}#sk-container-id-33 label.sk-toggleable__label-arrow:hover:before {color: black;}#sk-container-id-33 div.sk-estimator:hover label.sk-toggleable__label-arrow:before {color: black;}#sk-container-id-33 div.sk-toggleable__content {max-height: 0;max-width: 0;overflow: hidden;text-align: left;background-color: #f0f8ff;}#sk-container-id-33 div.sk-toggleable__content pre {margin: 0.2em;color: black;border-radius: 0.25em;background-color: #f0f8ff;}#sk-container-id-33 input.sk-toggleable__control:checked~div.sk-toggleable__content {max-height: 200px;max-width: 100%;overflow: auto;}#sk-container-id-33 input.sk-toggleable__control:checked~label.sk-toggleable__label-arrow:before {content: \"▾\";}#sk-container-id-33 div.sk-estimator input.sk-toggleable__control:checked~label.sk-toggleable__label {background-color: #d4ebff;}#sk-container-id-33 div.sk-label input.sk-toggleable__control:checked~label.sk-toggleable__label {background-color: #d4ebff;}#sk-container-id-33 input.sk-hidden--visually {border: 0;clip: rect(1px 1px 1px 1px);clip: rect(1px, 1px, 1px, 1px);height: 1px;margin: -1px;overflow: hidden;padding: 0;position: absolute;width: 1px;}#sk-container-id-33 div.sk-estimator {font-family: monospace;background-color: #f0f8ff;border: 1px dotted black;border-radius: 0.25em;box-sizing: border-box;margin-bottom: 0.5em;}#sk-container-id-33 div.sk-estimator:hover {background-color: #d4ebff;}#sk-container-id-33 div.sk-parallel-item::after {content: \"\";width: 100%;border-bottom: 1px solid gray;flex-grow: 1;}#sk-container-id-33 div.sk-label:hover label.sk-toggleable__label {background-color: #d4ebff;}#sk-container-id-33 div.sk-serial::before {content: \"\";position: absolute;border-left: 1px solid gray;box-sizing: border-box;top: 0;bottom: 0;left: 50%;z-index: 0;}#sk-container-id-33 div.sk-serial {display: flex;flex-direction: column;align-items: center;background-color: white;padding-right: 0.2em;padding-left: 0.2em;position: relative;}#sk-container-id-33 div.sk-item {position: relative;z-index: 1;}#sk-container-id-33 div.sk-parallel {display: flex;align-items: stretch;justify-content: center;background-color: white;position: relative;}#sk-container-id-33 div.sk-item::before, #sk-container-id-33 div.sk-parallel-item::before {content: \"\";position: absolute;border-left: 1px solid gray;box-sizing: border-box;top: 0;bottom: 0;left: 50%;z-index: -1;}#sk-container-id-33 div.sk-parallel-item {display: flex;flex-direction: column;z-index: 1;position: relative;background-color: white;}#sk-container-id-33 div.sk-parallel-item:first-child::after {align-self: flex-end;width: 50%;}#sk-container-id-33 div.sk-parallel-item:last-child::after {align-self: flex-start;width: 50%;}#sk-container-id-33 div.sk-parallel-item:only-child::after {width: 0;}#sk-container-id-33 div.sk-dashed-wrapped {border: 1px dashed gray;margin: 0 0.4em 0.5em 0.4em;box-sizing: border-box;padding-bottom: 0.4em;background-color: white;}#sk-container-id-33 div.sk-label label {font-family: monospace;font-weight: bold;display: inline-block;line-height: 1.2em;}#sk-container-id-33 div.sk-label-container {text-align: center;}#sk-container-id-33 div.sk-container {/* jupyter's `normalize.less` sets `[hidden] { display: none; }` but bootstrap.min.css set `[hidden] { display: none !important; }` so we also need the `!important` here to be able to override the default hidden behavior on the sphinx rendered scikit-learn.org. See: https://github.com/scikit-learn/scikit-learn/issues/21755 */display: inline-block !important;position: relative;}#sk-container-id-33 div.sk-text-repr-fallback {display: none;}</style><div id=\"sk-container-id-33\" class=\"sk-top-container\"><div class=\"sk-text-repr-fallback\"><pre>SVC(C=1, class_weight=&#x27;balanced&#x27;, kernel=&#x27;precomputed&#x27;)</pre><b>In a Jupyter environment, please rerun this cell to show the HTML representation or trust the notebook. <br />On GitHub, the HTML representation is unable to render, please try loading this page with nbviewer.org.</b></div><div class=\"sk-container\" hidden><div class=\"sk-item\"><div class=\"sk-estimator sk-toggleable\"><input class=\"sk-toggleable__control sk-hidden--visually\" id=\"sk-estimator-id-33\" type=\"checkbox\" checked><label for=\"sk-estimator-id-33\" class=\"sk-toggleable__label sk-toggleable__label-arrow\">SVC</label><div class=\"sk-toggleable__content\"><pre>SVC(C=1, class_weight=&#x27;balanced&#x27;, kernel=&#x27;precomputed&#x27;)</pre></div></div></div></div></div>"
      ],
      "text/plain": [
       "SVC(C=1, class_weight='balanced', kernel='precomputed')"
      ]
     },
     "execution_count": 356,
     "metadata": {},
     "output_type": "execute_result"
    }
   ],
   "source": [
    "# clf = KernelSVC(C = 1, kernel = None, epsilon=1e-3, precomputed=kernel_X[:1000,:1000], class_weight = \"balanced\", probability = False, l = .00005)\n",
    "# kernel_X = np.load(\"kernel_train_all.npy\")\n",
    "clf = SVC(C = 1, kernel = \"precomputed\", class_weight = \"balanced\")\n",
    "clf.fit(kernel_X, np.array(y_train))\n",
    "# clf.fit(kernel_X, np.array(y_train), 1000)\n",
    "# clf.fit(kernel_X[:1000,:1000], y_train[:1000],2)"
   ]
  },
  {
   "cell_type": "code",
   "execution_count": 340,
   "metadata": {},
   "outputs": [
    {
     "name": "stdout",
     "output_type": "stream",
     "text": [
      "[[ 0.02115963  0.01309082  0.0231266  ... -0.24212066 -0.32534997\n",
      "  -0.33614978]]\n"
     ]
    },
    {
     "ename": "AttributeError",
     "evalue": "'SVC' object has no attribute '_support_'",
     "output_type": "error",
     "traceback": [
      "\u001b[1;31m---------------------------------------------------------------------------\u001b[0m",
      "\u001b[1;31mAttributeError\u001b[0m                            Traceback (most recent call last)",
      "\u001b[1;32mc:\\Users\\33785\\Maths\\MVA\\Kernel methods\\kaggle\\training.ipynb Cell 9\u001b[0m in \u001b[0;36m<cell line: 2>\u001b[1;34m()\u001b[0m\n\u001b[0;32m      <a href='vscode-notebook-cell:/c%3A/Users/33785/Maths/MVA/Kernel%20methods/kaggle/training.ipynb#X22sZmlsZQ%3D%3D?line=0'>1</a>\u001b[0m \u001b[39mprint\u001b[39m(clf\u001b[39m.\u001b[39m_dual_coef_)\n\u001b[1;32m----> <a href='vscode-notebook-cell:/c%3A/Users/33785/Maths/MVA/Kernel%20methods/kaggle/training.ipynb#X22sZmlsZQ%3D%3D?line=1'>2</a>\u001b[0m \u001b[39mprint\u001b[39m(clf\u001b[39m.\u001b[39;49m_support_)\n",
      "\u001b[1;31mAttributeError\u001b[0m: 'SVC' object has no attribute '_support_'"
     ]
    }
   ],
   "source": [
    "print(clf._dual_coef_)\n",
    "print(clf._support_)\n",
    "\n",
    "# np.save(\"dual_coeff_all_3\", clf._dual_coef_)\n",
    "# np.save(\"support_all_3\", clf.support_)\n"
   ]
  },
  {
   "cell_type": "code",
   "execution_count": 341,
   "metadata": {},
   "outputs": [
    {
     "data": {
      "text/plain": [
       "1.0"
      ]
     },
     "execution_count": 341,
     "metadata": {},
     "output_type": "execute_result"
    }
   ],
   "source": [
    "preds = clf.decision_function(kernel_X)\n",
    "roc_auc_score(y_train,preds)\n",
    "#preds"
   ]
  },
  {
   "cell_type": "code",
   "execution_count": 297,
   "metadata": {},
   "outputs": [
    {
     "data": {
      "text/plain": [
       "array([[-4.17712577],\n",
       "       [15.89628447],\n",
       "       [-4.90309778],\n",
       "       ...,\n",
       "       [-2.81940947],\n",
       "       [ 5.49498475],\n",
       "       [ 4.06369044]])"
      ]
     },
     "execution_count": 297,
     "metadata": {},
     "output_type": "execute_result"
    }
   ],
   "source": [
    "preds = kernel_X[:,clf.support_].dot(clf._dual_coef_.T) + clf._intercept_\n",
    "-preds\n",
    "#roc_auc_score(y_test[:n_test],-preds[:])"
   ]
  },
  {
   "cell_type": "code",
   "execution_count": 290,
   "metadata": {},
   "outputs": [
    {
     "name": "stderr",
     "output_type": "stream",
     "text": [
      "100%|██████████| 2000/2000 [8:53:49<00:00, 16.01s/it]  \n"
     ]
    }
   ],
   "source": [
    "n_test = len(test_data)\n",
    "kernel = WLKernel(h = 4, relabelling_method= WL_relabelling_with_edges, lmbda = 1.1).kernel\n",
    "kernel_X_test = np.ones((n_test,n))\n",
    "for i in tqdm(range(n_test)):\n",
    "    for j in range(n):\n",
    "        similarity = kernel(test_data[i],X_train[j])             \n",
    "        kernel_X_test[i,j] = similarity"
   ]
  },
  {
   "cell_type": "code",
   "execution_count": 291,
   "metadata": {},
   "outputs": [],
   "source": [
    "# np.save(\"kernel_test_all\",kernel_X_test)"
   ]
  },
  {
   "cell_type": "code",
   "execution_count": 357,
   "metadata": {},
   "outputs": [],
   "source": [
    "import pandas as pd\n",
    "\n",
    "preds = clf.decision_function(new_kernel_test)\n",
    "dataframe = pd.DataFrame({\"Predicted\": preds}) \n",
    "dataframe.index += 1\n",
    "\n",
    "dataframe.to_csv('test_pred_all_gaussian.csv',index_label='Id')"
   ]
  },
  {
   "cell_type": "code",
   "execution_count": 8,
   "metadata": {},
   "outputs": [],
   "source": [
    "import pandas as pd\n",
    "import numpy as np\n",
    "import matplotlib.pyplot as plt\n",
    "\n",
    "valid_preds = pd.read_csv(\"validation_pred.csv\")\n",
    "\n",
    "x = valid_preds[\"Predicted\"].values\n",
    "\n",
    "test_preds = pd.read_csv(\"test_pred_06.csv\")\n",
    "\n",
    "y = test_preds[\"Predicted\"].values\n",
    "\n",
    "x = valid_preds[\"Predicted\"].values"
   ]
  },
  {
   "cell_type": "code",
   "execution_count": 12,
   "metadata": {},
   "outputs": [
    {
     "data": {
      "text/plain": [
       "(array([  3.,  11.,  61., 129., 439., 646., 524., 135.,  41.,  11.]),\n",
       " array([-48.90872828, -39.52513571, -30.14154314, -20.75795057,\n",
       "        -11.37435801,  -1.99076544,   7.39282713,  16.7764197 ,\n",
       "         26.16001226,  35.54360483,  44.9271974 ]),\n",
       " <BarContainer object of 10 artists>)"
      ]
     },
     "execution_count": 12,
     "metadata": {},
     "output_type": "execute_result"
    },
    {
     "data": {
      "image/png": "[encoded data removed]",
      "text/plain": [
       "<Figure size 432x288 with 1 Axes>"
      ]
     },
     "metadata": {
      "needs_background": "light"
     },
     "output_type": "display_data"
    }
   ],
   "source": [
    "plt.hist(3*x, alpha = .5)\n",
    "plt.hist(y,alpha = .5)"
   ]
  }
 ],
 "metadata": {
  "kernelspec": {
   "display_name": "Python 3",
   "language": "python",
   "name": "python3"
  },
  "language_info": {
   "codemirror_mode": {
    "name": "ipython",
    "version": 3
   },
   "file_extension": ".py",
   "mimetype": "text/x-python",
   "name": "python",
   "nbconvert_exporter": "python",
   "pygments_lexer": "ipython3",
   "version": "3.10.4"
  },
  "orig_nbformat": 4,
  "vscode": {
   "interpreter": {
    "hash": "a92a3f9d6eef284044c8a85966347c408e2cebb9f24e2eb2fdcdef213b0f1374"
   }
  }
 },
 "nbformat": 4,
 "nbformat_minor": 2
}
